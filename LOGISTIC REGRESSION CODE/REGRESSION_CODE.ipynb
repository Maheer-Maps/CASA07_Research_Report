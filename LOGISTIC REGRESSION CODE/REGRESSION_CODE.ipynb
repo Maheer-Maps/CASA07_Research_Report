{
 "cells": [
  {
   "cell_type": "code",
   "execution_count": 51,
   "id": "b758f968-bfd7-42f6-ba65-600ca282a040",
   "metadata": {},
   "outputs": [],
   "source": [
    "import pandas as pd\n",
    "import statsmodels.api as sm\n",
    "from sklearn.preprocessing import StandardScaler"
   ]
  },
  {
   "cell_type": "code",
   "execution_count": 52,
   "id": "65e49fb9-42e7-4409-848f-66082f4969fc",
   "metadata": {},
   "outputs": [
    {
     "name": "stdout",
     "output_type": "stream",
     "text": [
      "        CODE               BOROUGH  YEAR     AGE  % Healthy  % Unhealthy  \\\n",
      "0  E09000002  Barking and Dagenham  2021  Year 6       49.9         50.0   \n",
      "1  E09000003                Barnet  2021  Year 6       63.1         36.9   \n",
      "2  E09000004                Bexley  2021  Year 6       57.8         42.2   \n",
      "3  E09000005                 Brent  2021  Year 6       56.8         43.3   \n",
      "4  E09000006               Bromley  2021  Year 6       64.7         35.3   \n",
      "\n",
      "   Green cover  Blue cover  Open Space  Local Parks  District Parks  \\\n",
      "0        35.34        6.10        56.2         30.0            46.4   \n",
      "1        56.38        0.69        33.4         34.3            42.3   \n",
      "2        49.04        6.81        49.7         35.6            15.9   \n",
      "3        36.94        1.03        29.5         40.4            28.9   \n",
      "4        73.65        0.38        41.6         31.0            39.0   \n",
      "\n",
      "   Metropolitan Parks  Regional Parks  Percentage with private outdoor space  \\\n",
      "0                62.6             0.0                                   84.5   \n",
      "1                23.4             0.0                                   80.0   \n",
      "2                81.7             0.0                                   88.5   \n",
      "3                46.7             0.0                                   81.8   \n",
      "4                68.9             0.0                                   85.4   \n",
      "\n",
      "   Tree Cover  Income Deprivation  Employment Deprivation  Crime Deprivation  \n",
      "0        0.88                2.48                    3.11               1.54  \n",
      "1        7.08                2.18                    2.43               4.69  \n",
      "2        2.16                4.61                    4.18               4.80  \n",
      "3        3.54                1.31                    1.79               1.90  \n",
      "4        7.47                3.98                    3.50               3.38  \n"
     ]
    }
   ],
   "source": [
    "# Step 1: Load the dataset into a pandas DataFrame\n",
    "data = pd.read_csv('Year 6 Post Covid.csv')\n",
    "\n",
    "# Step 2: Display the first few rows of the dataset to verify its contents\n",
    "print(data.head())"
   ]
  },
  {
   "cell_type": "code",
   "execution_count": 53,
   "id": "f18430b9-bcfb-4f20-b389-8f9d0adcd8f4",
   "metadata": {},
   "outputs": [
    {
     "name": "stdout",
     "output_type": "stream",
     "text": [
      "Index(['CODE', 'BOROUGH', 'YEAR', 'AGE', '% Healthy', '% Unhealthy',\n",
      "       'Green cover', 'Blue cover', 'Open Space', 'Local Parks',\n",
      "       'District Parks', 'Metropolitan Parks', 'Regional Parks',\n",
      "       'Percentage with private outdoor space', 'Tree Cover',\n",
      "       'Income Deprivation', 'Employment Deprivation', 'Crime Deprivation'],\n",
      "      dtype='object')\n"
     ]
    }
   ],
   "source": [
    "# Step 3: Check the columns in the dataset to ensure all necessary columns are present\n",
    "print(data.columns)\n",
    "\n",
    "# Step 4: Create 'HealthCategory' column based on '% Healthy' and '% Unhealthy'\n",
    "def categorize_health(row):\n",
    "    if row['% Healthy'] > 63:\n",
    "        return 'High'\n",
    "    elif row['% Healthy'] > 58:\n",
    "        return 'Medium'\n",
    "    else:\n",
    "        return 'Low'\n",
    "\n",
    "data['HealthCategory'] = data.apply(categorize_health, axis=1)\n",
    "\n",
    "# Ensure 'HealthCategory' is in a categorical format\n",
    "data['HealthCategory'] = data['HealthCategory'].astype('category')"
   ]
  },
  {
   "cell_type": "code",
   "execution_count": 54,
   "id": "d4b02041-6626-48a7-ade0-f2e43110b5b2",
   "metadata": {},
   "outputs": [],
   "source": [
    "# Step 5: Clean and preprocess the data\n",
    "# Drop rows with missing values (if needed)\n",
    "data = data.dropna()\n",
    "\n",
    "# Convert 'YEAR' to numeric, handling errors if necessary\n",
    "data['YEAR'] = pd.to_numeric(data['YEAR'], errors='coerce')\n",
    "\n",
    "# Step 6: Standardize the deprivation factors: Income, Employment, and Crime Deprivation\n",
    "deprivation_columns = ['Income Deprivation', 'Employment Deprivation', 'Crime Deprivation']\n",
    "scaler = StandardScaler()\n",
    "\n",
    "# Standardizing the deprivation columns\n",
    "data[deprivation_columns] = scaler.fit_transform(data[deprivation_columns])"
   ]
  },
  {
   "cell_type": "code",
   "execution_count": 55,
   "id": "81e759fa-b0ab-4ca6-b303-23246fd7b1fd",
   "metadata": {},
   "outputs": [],
   "source": [
    "# Step 7: Specify the independent variables (natural assets) and the dependent variable (HealthCategory)\n",
    "natural_assets_columns = ['Green cover', 'Blue cover', 'Open Space', 'Local Parks', 'District Parks', \n",
    "                          'Metropolitan Parks', 'Regional Parks', 'Percentage with private outdoor space', 'Tree Cover']\n",
    "deprivation_columns = ['Income Deprivation', 'Employment Deprivation', 'Crime Deprivation']\n",
    "\n",
    "# Combine independent variables\n",
    "independent_vars = natural_assets_columns + deprivation_columns"
   ]
  },
  {
   "cell_type": "code",
   "execution_count": 57,
   "id": "eb21086b-7c71-454a-8a91-3daca6fc63dd",
   "metadata": {},
   "outputs": [],
   "source": [
    "# Step 8: Ordinal Logistic Regression (using OrderedModel from statsmodels)\n",
    "def ordinal_logistic_regression(df, dependent_var, independent_vars):\n",
    "    # Ensure you're modifying a copy of the DataFrame to avoid SettingWithCopyWarning\n",
    "    df_copy = df.copy()  # Create a copy of the DataFrame\n",
    "    \n",
    "    # Select independent variables\n",
    "    X = df_copy[independent_vars]\n",
    "    y = df_copy[dependent_var]\n",
    "    \n",
    "    # Fit an ordinal logistic regression model using OrderedModel\n",
    "    model = OrderedModel(y, X, distr='logit')  # Logistic distribution for ordinal logistic regression\n",
    "    result = model.fit(method='bfgs', disp=False)\n",
    "    return result"
   ]
  },
  {
   "cell_type": "code",
   "execution_count": 58,
   "id": "579cde59-7f09-4a53-be35-494f1c674648",
   "metadata": {},
   "outputs": [
    {
     "name": "stderr",
     "output_type": "stream",
     "text": [
      "/opt/conda/lib/python3.11/site-packages/statsmodels/miscmodels/ordinal_model.py:205: Warning: the endog has ordered == False, risk of capturing a wrong order for the categories. ordered == True preferred.\n",
      "  warnings.warn(\"the endog has ordered == False, \"\n"
     ]
    }
   ],
   "source": [
    "# Step 9: Run ordinal logistic regression\n",
    "result_reception = ordinal_logistic_regression(data, 'HealthCategory', independent_vars)"
   ]
  },
  {
   "cell_type": "code",
   "execution_count": 50,
   "id": "694c4d6a-a9fb-4d62-9dd4-0701e7f5afaf",
   "metadata": {},
   "outputs": [
    {
     "name": "stdout",
     "output_type": "stream",
     "text": [
      "Ordinal Logistic Regression for Reception:\n",
      "                             OrderedModel Results                             \n",
      "==============================================================================\n",
      "Dep. Variable:         HealthCategory   Log-Likelihood:                -88.223\n",
      "Model:                   OrderedModel   AIC:                             204.4\n",
      "Method:            Maximum Likelihood   BIC:                             240.3\n",
      "Date:                Fri, 17 Jan 2025                                         \n",
      "Time:                        16:16:42                                         \n",
      "No. Observations:                  96                                         \n",
      "Df Residuals:                      82                                         \n",
      "Df Model:                          12                                         \n",
      "=========================================================================================================\n",
      "                                            coef    std err          z      P>|z|      [0.025      0.975]\n",
      "---------------------------------------------------------------------------------------------------------\n",
      "Green cover                               0.0159      0.022      0.730      0.465      -0.027       0.058\n",
      "Blue cover                               -0.1269      0.084     -1.509      0.131      -0.292       0.038\n",
      "Open Space                               -0.0012      0.013     -0.098      0.922      -0.026       0.023\n",
      "Local Parks                               0.0194      0.020      0.945      0.345      -0.021       0.059\n",
      "District Parks                           -0.0181      0.017     -1.071      0.284      -0.051       0.015\n",
      "Metropolitan Parks                        0.0014      0.010      0.130      0.897      -0.019       0.022\n",
      "Regional Parks                           -0.0063      0.007     -0.957      0.339      -0.019       0.007\n",
      "Percentage with private outdoor space     0.0679      0.035      1.945      0.052      -0.001       0.136\n",
      "Tree Cover                               -0.5714      0.238     -2.399      0.016      -1.038      -0.105\n",
      "Income Deprivation                        0.0858      1.507      0.057      0.955      -2.869       3.040\n",
      "Employment Deprivation                   -1.2807      1.589     -0.806      0.420      -4.395       1.833\n",
      "Crime Deprivation                         0.0707      0.458      0.154      0.877      -0.827       0.968\n",
      "High/Low                                  2.3595      3.412      0.692      0.489      -4.327       9.046\n",
      "Low/Medium                                0.8554      0.142      6.027      0.000       0.577       1.133\n",
      "=========================================================================================================\n"
     ]
    }
   ],
   "source": [
    "# Step 10: Print the regression results\n",
    "print(\"Ordinal Logistic Regression for Reception:\")\n",
    "print(result_reception.summary())"
   ]
  },
  {
   "cell_type": "code",
   "execution_count": null,
   "id": "17544c24-6e59-4697-8d1d-f578834641cc",
   "metadata": {},
   "outputs": [],
   "source": []
  }
 ],
 "metadata": {
  "kernelspec": {
   "display_name": "Python (base)",
   "language": "python",
   "name": "base"
  },
  "language_info": {
   "codemirror_mode": {
    "name": "ipython",
    "version": 3
   },
   "file_extension": ".py",
   "mimetype": "text/x-python",
   "name": "python",
   "nbconvert_exporter": "python",
   "pygments_lexer": "ipython3",
   "version": "3.11.9"
  }
 },
 "nbformat": 4,
 "nbformat_minor": 5
}
